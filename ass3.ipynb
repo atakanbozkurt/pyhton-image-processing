{
 "cells": [
  {
   "cell_type": "code",
   "execution_count": 1,
   "metadata": {},
   "outputs": [],
   "source": [
    "import cv2\n",
    "import numpy as np\n",
    "import matplotlib.pyplot as plt\n",
    "import glob\n",
    "import os\n",
    "import math"
   ]
  },
  {
   "cell_type": "code",
   "execution_count": 2,
   "metadata": {},
   "outputs": [],
   "source": [
    "def getImage1(imgName): #For the first image folder\n",
    "    img_dir = \"sample_images1\" # Enter Directory of all images \n",
    "    data_path = os.path.join(img_dir,'*')\n",
    "    img_files = glob.glob(data_path)\n",
    "    readImg = img_dir + \"/\" + imgName\n",
    "    img = cv2.imread(readImg,0)\n",
    "    return img\n",
    "\n",
    "def getImage2(imgName): #For the second image folder\n",
    "    img_dir = \"sample_images2\" # Enter Directory of all images \n",
    "    data_path = os.path.join(img_dir,'*')\n",
    "    img_files = glob.glob(data_path)\n",
    "    readImg = img_dir + \"/\" + imgName\n",
    "    img = cv2.imread(readImg,0)\n",
    "    return img"
   ]
  },
  {
   "cell_type": "code",
   "execution_count": 3,
   "metadata": {},
   "outputs": [],
   "source": [
    "def applyConvolution(image, kernel):\n",
    "    img_h, img_w = image.shape\n",
    "    filter_size = kernel.shape[0]\n",
    "\n",
    "    padding = int((kernel.shape[0]-1)/2)\n",
    "    padding_add = int(padding*2)\n",
    "    input_image_with_padding = np.zeros([image.shape[0]+padding_add, image.shape[1]+padding_add])\n",
    "    input_image_with_padding[padding:img_h+padding, padding:img_w+padding] = image[:,:]\n",
    "\n",
    "    flip_filter = cv2.flip(kernel, -1)\n",
    "\n",
    "    output_img = np.zeros(image.shape, dtype=image.dtype)\n",
    "\n",
    "    for i in range(img_h):\n",
    "        for j in range(img_w):\n",
    "            temp = input_image_with_padding[i:i+filter_size, j:j+filter_size]\n",
    "            output_img[i,j] = np.uint8(np.sum(np.double(temp)*np.double(flip_filter)))\n",
    "\n",
    "    return output_img"
   ]
  },
  {
   "cell_type": "code",
   "execution_count": 4,
   "metadata": {},
   "outputs": [],
   "source": [
    "#Filters to take derivative of an image and sobel filters\n",
    "hx = np.array([\n",
    "        [0,0,0], \n",
    "        [1,-1,0], \n",
    "        [0,0,0]\n",
    "    ])\n",
    "\n",
    "hy = np.array([\n",
    "        [0,0,0], \n",
    "        [0,-1,0], \n",
    "        [0,1,0]\n",
    "    ])\n",
    "sobel_x = np.array([\n",
    "        [-1,0,1], \n",
    "        [-2,0,2], \n",
    "        [-1,0,1]\n",
    "    ])\n",
    "sobel_y = np.array([\n",
    "        [1,2,1], \n",
    "        [0,0,0], \n",
    "        [-1,-2,-1]\n",
    "    ])"
   ]
  },
  {
   "cell_type": "code",
   "execution_count": 17,
   "metadata": {},
   "outputs": [
    {
     "data": {
      "text/plain": [
       "'\\nfor i in range(3):\\n    cv2.imwrite(\"pictures/hx\"+str(i)+\".jpg\",hx_pics[i])\\n    cv2.imwrite(\"pictures/hy\"+str(i)+\".jpg\",hy_pics[i])\\n    cv2.imwrite(\"pictures/gradient\"+str(i)+\".jpg\",h_gradients[i])\\n    cv2.imwrite(\"pictures/sobelx\"+str(i)+\".jpg\",sobelx_pics[i])\\n    cv2.imwrite(\"pictures/sobely\"+str(i)+\".jpg\",sobely_pics[i])\\n    cv2.imwrite(\"pictures/sobel_gradient\"+str(i)+\".jpg\",sobel_gradients[i])\\n'"
      ]
     },
     "execution_count": 17,
     "metadata": {},
     "output_type": "execute_result"
    }
   ],
   "source": [
    "#picture containers\n",
    "images_1 = []\n",
    "hx_pics = []\n",
    "hy_pics = []\n",
    "h_gradients = []\n",
    "sobelx_pics = []\n",
    "sobely_pics = []\n",
    "sobel_gradients = []\n",
    "\n",
    "#read pictures\n",
    "zebra2 = getImage1(\"zebra2.jpg\")\n",
    "lion2 = getImage1(\"lion2.jpg\")\n",
    "baboon = getImage1(\"Baboon.bmp\")\n",
    "images_1.append(zebra2)\n",
    "images_1.append(lion2)\n",
    "images_1.append(baboon)\n",
    "\n",
    "#Take x derivatives and y derivatives of images and take gradient\n",
    "for i in range(3):\n",
    "    img_hx = applyConvolution(images_1[i],hx)\n",
    "    hx_pics.append(img_hx)\n",
    "    img_hy = applyConvolution(images_1[i],hy)\n",
    "    hy_pics.append(img_hy)\n",
    "    #gradient operations\n",
    "    img_gradient = np.sqrt(hx_pics[i]*hx_pics[i] + hy_pics[i]*hy_pics[i])\n",
    "    img_gradient = img_gradient.astype(np.uint8)\n",
    "    h_gradients.append(img_gradient)\n",
    "    \n",
    "\n",
    "#Take x derivatives and y derivatives of images and take gradient with SOBEL FILTERS\n",
    "for i in range(3):\n",
    "    img_sx = applyConvolution(images_1[i],sobel_x)\n",
    "    sobelx_pics.append(img_sx)\n",
    "    img_sy = applyConvolution(images_1[i],sobel_y)\n",
    "    sobely_pics.append(img_sy)\n",
    "    #gradient operations\n",
    "    sobel_gradient = np.sqrt(sobelx_pics[i]*sobelx_pics[i] + sobely_pics[i]*sobely_pics[i])\n",
    "    sobel_gradient = sobel_gradient.astype(np.uint8)\n",
    "    sobel_gradients.append(sobel_gradient)\n",
    "\n",
    "'''\n",
    "for i in range(3):\n",
    "    cv2.imwrite(\"pictures/hx\"+str(i)+\".jpg\",hx_pics[i])\n",
    "    cv2.imwrite(\"pictures/hy\"+str(i)+\".jpg\",hy_pics[i])\n",
    "    cv2.imwrite(\"pictures/gradient\"+str(i)+\".jpg\",h_gradients[i])\n",
    "    cv2.imwrite(\"pictures/sobelx\"+str(i)+\".jpg\",sobelx_pics[i])\n",
    "    cv2.imwrite(\"pictures/sobely\"+str(i)+\".jpg\",sobely_pics[i])\n",
    "    cv2.imwrite(\"pictures/sobel_gradient\"+str(i)+\".jpg\",sobel_gradients[i])\n",
    "'''"
   ]
  },
  {
   "cell_type": "code",
   "execution_count": 18,
   "metadata": {},
   "outputs": [],
   "source": [
    "#Slide show for x,y,sobel_x,sobel_y derivatives gradient of images\n",
    "for i in range(3):\n",
    "    cv2.imshow(\"IMG-HX-HY-GRADIENT\",np.hstack((images_1[i],hx_pics[i],hy_pics[i],h_gradients[i])))\n",
    "    cv2.waitKey(0)\n",
    "    cv2.destroyAllWindows()\n",
    "    cv2.imshow(\"IMG-SobelX-SobelY-GRADIENT\",np.hstack((images_1[i],sobelx_pics[i],sobely_pics[i],sobel_gradients[i])))\n",
    "    cv2.waitKey(0)\n",
    "    cv2.destroyAllWindows()"
   ]
  },
  {
   "cell_type": "code",
   "execution_count": 5,
   "metadata": {},
   "outputs": [
    {
     "data": {
      "text/plain": [
       "[<matplotlib.lines.Line2D at 0x123be2ef0>]"
      ]
     },
     "execution_count": 5,
     "metadata": {},
     "output_type": "execute_result"
    },
    {
     "data": {
      "image/png": "[encoded data removed]",
      "text/plain": [
       "<Figure size 432x288 with 1 Axes>"
      ]
     },
     "metadata": {
      "needs_background": "light"
     },
     "output_type": "display_data"
    }
   ],
   "source": [
    "#HISTOGRAM\n",
    "grayImage = getImage2(\"grayImage.jpg\")\n",
    "pixel_count = np.zeros([256],dtype = int)\n",
    "for i in range(len(grayImage)):\n",
    "    for j in range(len(grayImage.T)):\n",
    "        pixel_count[grayImage[i][j]] = pixel_count[grayImage[i][j]]+1\n",
    "\n",
    "\n",
    "x = range(256)\n",
    "plt.plot(x,pixel_count)"
   ]
  },
  {
   "cell_type": "code",
   "execution_count": 6,
   "metadata": {},
   "outputs": [],
   "source": [
    "#Giving threshold manually\n",
    "def drawBinaryImage(image,threshold):\n",
    "    new_img = np.zeros(image.shape, dtype= np.uint8)\n",
    "    img_h, img_w = image.shape\n",
    "    for i in range(img_h):\n",
    "        for j in range(img_w):\n",
    "            if image[i][j] >= threshold:\n",
    "                new_img[i][j] = 255\n",
    "    return new_img"
   ]
  },
  {
   "cell_type": "code",
   "execution_count": 7,
   "metadata": {},
   "outputs": [],
   "source": [
    "#binary images with different thresholds \n",
    "threshold = []\n",
    "\n",
    "\n",
    "threshold50 = drawBinaryImage(grayImage,50)\n",
    "threshold55 = drawBinaryImage(grayImage,55)\n",
    "threshold60 = drawBinaryImage(grayImage,60)\n",
    "threshold65 = drawBinaryImage(grayImage,65)\n",
    "threshold70 = drawBinaryImage(grayImage,70)\n",
    "threshold71 = drawBinaryImage(grayImage,71)\n",
    "threshold72 = drawBinaryImage(grayImage,72)\n",
    "threshold73 = drawBinaryImage(grayImage,73)\n",
    "threshold74 = drawBinaryImage(grayImage,74)\n",
    "threshold75 = drawBinaryImage(grayImage,75)\n",
    "threshold100 = drawBinaryImage(grayImage,100)\n",
    "threshold125 = drawBinaryImage(grayImage,125)\n",
    "threshold150 = drawBinaryImage(grayImage,150)\n",
    "threshold175 = drawBinaryImage(grayImage,175)\n",
    "threshold200 = drawBinaryImage(grayImage,200)\n",
    "threshold225 = drawBinaryImage(grayImage,225)\n",
    "threshold250 = drawBinaryImage(grayImage,250)\n",
    "\n",
    "threshold.append(threshold50)\n",
    "threshold.append(threshold55)\n",
    "threshold.append(threshold60)\n",
    "threshold.append(threshold65)\n",
    "threshold.append(threshold70)\n",
    "threshold.append(threshold71)\n",
    "threshold.append(threshold72)\n",
    "threshold.append(threshold73)\n",
    "threshold.append(threshold74)\n",
    "threshold.append(threshold75)\n",
    "threshold.append(threshold100)\n",
    "threshold.append(threshold125)\n",
    "threshold.append(threshold150)\n",
    "threshold.append(threshold175)\n",
    "threshold.append(threshold200)\n",
    "threshold.append(threshold225)\n",
    "threshold.append(threshold250)\n",
    "\n",
    "'''\n",
    "for i in range(len(threshold)):\n",
    "    cv2.imwrite(\"test/threshold[\" + str(i) + \"].jpg\",threshold[i])\n",
    "'''\n"
   ]
  },
  {
   "cell_type": "code",
   "execution_count": 8,
   "metadata": {},
   "outputs": [],
   "source": [
    "#Slide show for binary images with different thresholds\n",
    "for i in range(len(threshold)):\n",
    "    cv2.imshow(\"imgs with different thresholds\",threshold[i])\n",
    "    cv2.waitKey(0)\n",
    "    cv2.destroyAllWindows()"
   ]
  },
  {
   "cell_type": "code",
   "execution_count": 8,
   "metadata": {},
   "outputs": [
    {
     "data": {
      "image/png": "[encoded data removed]",
      "text/plain": [
       "<Figure size 432x288 with 1 Axes>"
      ]
     },
     "metadata": {
      "needs_background": "light"
     },
     "output_type": "display_data"
    }
   ],
   "source": [
    "#Drawing ROC Curve\n",
    "ground_truth = getImage2(\"ground_truth.png\")\n",
    "img_h, img_w = ground_truth.shape \n",
    "\n",
    "\n",
    "y_axis = []\n",
    "x_axis = []\n",
    "\n",
    "for t in range(len(threshold)):\n",
    "    true_pos = 0\n",
    "    true_neg = 0\n",
    "    false_pos = 0\n",
    "    false_neg = 0\n",
    "    thres = threshold[t]\n",
    "    for i in range(img_h):\n",
    "        for j in range(img_w):\n",
    "            if ground_truth[i][j] == thres[i][j]:\n",
    "                if thres[i][j]==0:\n",
    "                    true_neg += 1\n",
    "                else:\n",
    "                    true_pos += 1\n",
    "            else:\n",
    "                if thres[i][j]==0:\n",
    "                    false_neg += 1\n",
    "                else:\n",
    "                    false_pos += 1\n",
    "    y_axis.append(true_pos/(true_pos+false_neg))\n",
    "    x_axis.append(false_pos/(false_pos+true_neg))\n",
    "plt.plot(x_axis,y_axis,\"bo\")\n",
    "plt.show()"
   ]
  },
  {
   "cell_type": "code",
   "execution_count": 9,
   "metadata": {},
   "outputs": [
    {
     "name": "stdout",
     "output_type": "stream",
     "text": [
      "Picture with optimal threshold is at threshold array[4] \n"
     ]
    }
   ],
   "source": [
    "#QUESTION 4, Choosing best threshold with Pathagoras theorem.\n",
    "#1-sensitiviy = 1-y_axis values\n",
    "#1-specifiy = x_axis values\n",
    "\n",
    "#just for initialization\n",
    "smallest_dist = math.sqrt((1-y_axis[0])*(1-y_axis[0])+(x_axis[0])*(x_axis[0]))\n",
    "optimal_index = 0 #will hold the best threshold index after calculating distances\n",
    "\n",
    "for i in range(1,len(x_axis)):\n",
    "    a = 1-y_axis[i]\n",
    "    b = x_axis[i]\n",
    "    distance = math.sqrt(a*a + b*b)\n",
    "    if (distance < smallest_dist):\n",
    "        smallest_dist = distance\n",
    "        optimal_index = i\n",
    "    \n",
    "print(\"Picture with optimal threshold is at threshold array[{}] \".format(optimal_index))\n"
   ]
  },
  {
   "cell_type": "code",
   "execution_count": null,
   "metadata": {},
   "outputs": [],
   "source": []
  }
 ],
 "metadata": {
  "kernelspec": {
   "display_name": "Python 3",
   "language": "python",
   "name": "python3"
  },
  "language_info": {
   "codemirror_mode": {
    "name": "ipython",
    "version": 3
   },
   "file_extension": ".py",
   "mimetype": "text/x-python",
   "name": "python",
   "nbconvert_exporter": "python",
   "pygments_lexer": "ipython3",
   "version": "3.7.1"
  }
 },
 "nbformat": 4,
 "nbformat_minor": 2
}
